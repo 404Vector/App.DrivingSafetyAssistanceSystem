{
 "cells": [
  {
   "cell_type": "code",
   "execution_count": null,
   "metadata": {},
   "outputs": [],
   "source": [
    "import pickle\n",
    "\n",
    "\n",
    "with open('/opt/ml/mm/mmdetection3d/data/kitti/kitti_infos_train.pkl','rb') as f:\n",
    "    kitti  = pickle.load(f)"
   ]
  },
  {
   "cell_type": "code",
   "execution_count": null,
   "metadata": {},
   "outputs": [],
   "source": [
    "\n",
    "with open('/opt/ml/mm/mmdetection3d/data/kitti_hub/kitti_infos_train.pkl','rb') as f:\n",
    "    aihub = pickle.load(f)"
   ]
  },
  {
   "cell_type": "code",
   "execution_count": null,
   "metadata": {},
   "outputs": [],
   "source": [
    "kitti.keys()"
   ]
  },
  {
   "cell_type": "code",
   "execution_count": null,
   "metadata": {},
   "outputs": [],
   "source": [
    "len(kitti['data_list'])"
   ]
  },
  {
   "cell_type": "code",
   "execution_count": null,
   "metadata": {},
   "outputs": [],
   "source": [
    "len(aihub['data_list'])"
   ]
  },
  {
   "cell_type": "code",
   "execution_count": null,
   "metadata": {},
   "outputs": [],
   "source": [
    "kitti['data_list'][0].keys()"
   ]
  },
  {
   "cell_type": "code",
   "execution_count": null,
   "metadata": {},
   "outputs": [],
   "source": [
    "kitti['data_list'][0]['lidar_points']"
   ]
  },
  {
   "cell_type": "code",
   "execution_count": null,
   "metadata": {},
   "outputs": [],
   "source": [
    "kitti['data_list'][0]['instances']"
   ]
  },
  {
   "cell_type": "code",
   "execution_count": null,
   "metadata": {},
   "outputs": [],
   "source": [
    "kitti['data_list'][0]['cam_instances']"
   ]
  },
  {
   "cell_type": "code",
   "execution_count": null,
   "metadata": {},
   "outputs": [],
   "source": [
    "aihub['data_list'][0]['instances'][1]"
   ]
  },
  {
   "cell_type": "code",
   "execution_count": null,
   "metadata": {},
   "outputs": [],
   "source": [
    "aihub['data_list'][0]['cam_instances']['CAM2'][1]"
   ]
  },
  {
   "cell_type": "code",
   "execution_count": null,
   "metadata": {},
   "outputs": [],
   "source": [
    "aihub['data_list'][0].keys()"
   ]
  },
  {
   "cell_type": "code",
   "execution_count": null,
   "metadata": {},
   "outputs": [],
   "source": [
    "aihub['data_list'][0]"
   ]
  },
  {
   "cell_type": "code",
   "execution_count": null,
   "metadata": {},
   "outputs": [],
   "source": [
    "aihub['data_list'][0]"
   ]
  },
  {
   "cell_type": "code",
   "execution_count": null,
   "metadata": {},
   "outputs": [],
   "source": [
    "kitti['data_list'][1]['cam_instances']['CAM2']"
   ]
  },
  {
   "cell_type": "code",
   "execution_count": null,
   "metadata": {},
   "outputs": [],
   "source": [
    "kitti['data_list'][2]['cam_instances']['CAM2']"
   ]
  },
  {
   "attachments": {},
   "cell_type": "markdown",
   "metadata": {},
   "source": [
    "#### 좌표 출력한 값 가져옴"
   ]
  },
  {
   "cell_type": "code",
   "execution_count": null,
   "metadata": {},
   "outputs": [],
   "source": [
    "points=[[-15.018971975623971, -15.032428167998903], [54.136823524948824, 58.222970611407256], [3.0296997506023753, 2.8051043840793595], [39.79171568923941, 35.43356024855636], [-15.097828401250919, -15.210248440878702], [49.5590399513742, 53.5324448102532], [-14.620334540394246, -14.520687868246632], [35.86152676286086, 39.88107427687826], [-17.761479272171332, -13.9007396325784], [59.66047918725979, 58.89557376918275], [-6.844764772201192, -7.60699830602365], [20.076706995007815, 20.472285548310516]]"
   ]
  },
  {
   "cell_type": "code",
   "execution_count": 2,
   "metadata": {},
   "outputs": [],
   "source": [
    "import numpy as np\n",
    "import matplotlib as plt\n",
    "import matplotlib.pyplot as plt\n",
    "%matplotlib inline"
   ]
  },
  {
   "cell_type": "code",
   "execution_count": 7,
   "metadata": {},
   "outputs": [],
   "source": [
    "points=[[-0.8045879488254548, 0.0746459239894477], [5.976905610405369, 9.720910947933543], [0.6875046625684943, -0.008586149448225555], [16.39884501216897, 12.727714391419932], [7.137704461369579, 7.799579838880403], [29.095147426306944, 33.31553838910861], [19.675646725617785, 20.86176041023901], [65.53720124384111, 69.51067723881074], [4.341402334604154, 1.0178584445555028], [29.454749563042355, 32.00169284085709], [10.204612342815231, 10.064861658933987], [37.01629537644282, 41.07405305479619], [8.319001640913244, 7.304324169940549], [21.986938979213548, 18.57415813437269], [3.744748496491534, 2.6984482168258], [8.264905091081697, 4.823885447617405]]"
   ]
  },
  {
   "cell_type": "code",
   "execution_count": 8,
   "metadata": {},
   "outputs": [],
   "source": [
    "#좌표 분리\n",
    "x=[]\n",
    "y=[]\n",
    "for point in points:\n",
    "    x_p,y_p=point\n",
    "    x.append(x_p)\n",
    "    y.append(y_p)\n",
    "\n"
   ]
  },
  {
   "cell_type": "code",
   "execution_count": 9,
   "metadata": {},
   "outputs": [
    {
     "data": {
      "text/plain": [
       "[-0.8045879488254548,\n",
       " 5.976905610405369,\n",
       " 0.6875046625684943,\n",
       " 16.39884501216897,\n",
       " 7.137704461369579,\n",
       " 29.095147426306944,\n",
       " 19.675646725617785,\n",
       " 65.53720124384111,\n",
       " 4.341402334604154,\n",
       " 29.454749563042355,\n",
       " 10.204612342815231,\n",
       " 37.01629537644282,\n",
       " 8.319001640913244,\n",
       " 21.986938979213548,\n",
       " 3.744748496491534,\n",
       " 8.264905091081697]"
      ]
     },
     "execution_count": 9,
     "metadata": {},
     "output_type": "execute_result"
    }
   ],
   "source": [
    "x"
   ]
  },
  {
   "cell_type": "code",
   "execution_count": 10,
   "metadata": {},
   "outputs": [
    {
     "data": {
      "text/plain": [
       "[0.0746459239894477,\n",
       " 9.720910947933543,\n",
       " -0.008586149448225555,\n",
       " 12.727714391419932,\n",
       " 7.799579838880403,\n",
       " 33.31553838910861,\n",
       " 20.86176041023901,\n",
       " 69.51067723881074,\n",
       " 1.0178584445555028,\n",
       " 32.00169284085709,\n",
       " 10.064861658933987,\n",
       " 41.07405305479619,\n",
       " 7.304324169940549,\n",
       " 18.57415813437269,\n",
       " 2.6984482168258,\n",
       " 4.823885447617405]"
      ]
     },
     "execution_count": 10,
     "metadata": {},
     "output_type": "execute_result"
    }
   ],
   "source": [
    "y"
   ]
  },
  {
   "cell_type": "code",
   "execution_count": 13,
   "metadata": {},
   "outputs": [],
   "source": [
    "points=[[[-15, -15, -16, -16], [49, 53, 53, 49]], [[-14, -14, -16, -16], [35, 39, 39, 35]], [[-17, -13, -13, -17], [59, 58, 60, 61]]]"
   ]
  },
  {
   "cell_type": "code",
   "execution_count": 43,
   "metadata": {},
   "outputs": [],
   "source": [
    "ll=[]\n",
    "for point in points:\n",
    "        x , y = point\n",
    "        case = []\n",
    "        for p in zip(x,y):\n",
    "            case.append(list(p))\n",
    "        ll.append(case)"
   ]
  },
  {
   "cell_type": "code",
   "execution_count": 56,
   "metadata": {},
   "outputs": [
    {
     "data": {
      "text/plain": [
       "array([[[  9, 117],\n",
       "        [  6, 105],\n",
       "        [ 12, 105],\n",
       "        [ 12, 117]]])"
      ]
     },
     "execution_count": 56,
     "metadata": {},
     "output_type": "execute_result"
    }
   ],
   "source": [
    "a=np.array([[[3, 39], [2, 35], [4, 35], [4, 39]]])\n",
    "a*3"
   ]
  },
  {
   "cell_type": "code",
   "execution_count": 2,
   "metadata": {},
   "outputs": [
    {
     "data": {
      "text/plain": [
       "[1, 2, 3, 4, 5]"
      ]
     },
     "execution_count": 2,
     "metadata": {},
     "output_type": "execute_result"
    }
   ],
   "source": [
    "a=[1,2,3,4,5,6,7,8,9]\n",
    "a[:-4]"
   ]
  },
  {
   "cell_type": "code",
   "execution_count": 41,
   "metadata": {},
   "outputs": [
    {
     "data": {
      "text/plain": [
       "array([ 5, 10, 15, 20])"
      ]
     },
     "execution_count": 41,
     "metadata": {},
     "output_type": "execute_result"
    }
   ],
   "source": [
    "a= np.array([1,2,3,4])\n",
    "a*5"
   ]
  },
  {
   "cell_type": "code",
   "execution_count": 42,
   "metadata": {},
   "outputs": [
    {
     "data": {
      "text/plain": [
       "array([[1250, 1000],\n",
       "       [1500, 1000],\n",
       "       [1750, 1500],\n",
       "       [1250, 1500]])"
      ]
     },
     "execution_count": 42,
     "metadata": {},
     "output_type": "execute_result"
    }
   ],
   "source": [
    "pts = np.array([[250, 200], [300, 200], [350, 300], [250, 300]])\n",
    "pts*5"
   ]
  },
  {
   "cell_type": "code",
   "execution_count": 12,
   "metadata": {},
   "outputs": [
    {
     "data": {
      "image/png": "[encoded data removed]",
      "text/plain": [
       "<Figure size 864x432 with 1 Axes>"
      ]
     },
     "metadata": {
      "needs_background": "light"
     },
     "output_type": "display_data"
    }
   ],
   "source": [
    "fig = plt.figure(figsize=(12,6))\n",
    "ax = fig.add_subplot()\n",
    "ax.scatter(x, y)\n",
    "\n",
    "plt.xlim(-100,100)\n",
    "plt.ylim(-100,100)\n",
    "plt.show()"
   ]
  },
  {
   "cell_type": "code",
   "execution_count": null,
   "metadata": {},
   "outputs": [],
   "source": [
    "import numpy as np\n",
    "import cv2\n",
    "black_canvus = np.full((500,500,3),255,dtype='uint8')\n",
    "\n",
    "cv2.imwrite('./blank_500.jpg',black_canvus)\n",
    "img = cv2.imread('./blank_500.jpg')\n",
    "cv2.line(img, (50,50), (150,50), (255,0,0))"
   ]
  },
  {
   "cell_type": "code",
   "execution_count": 1,
   "metadata": {},
   "outputs": [
    {
     "ename": "",
     "evalue": "",
     "output_type": "error",
     "traceback": [
      "\u001b[1;31mCanceled future for execute_request message before replies were done"
     ]
    },
    {
     "ename": "",
     "evalue": "",
     "output_type": "error",
     "traceback": [
      "\u001b[1;31mThe Kernel crashed while executing code in the the current cell or a previous cell. Please review the code in the cell(s) to identify a possible cause of the failure. Click <a href='https://aka.ms/vscodeJupyterKernelCrash'>here</a> for more info. View Jupyter <a href='command:jupyter.viewOutput'>log</a> for further details."
     ]
    }
   ],
   "source": [
    "import cv2\n",
    "import numpy as np\n",
    " \n",
    " \n",
    "image = cv2.imread('./blank_500.jpg')\n",
    "cv2.imshow('img', image)\n",
    " \n",
    "imageLine = image.copy()\n",
    "# 선그리기\n",
    "# cv2.line(imageLine, (322,179), (400,183), (0,255,0), thickness=2, lineType=cv2.LINE_AA)\n",
    "\n",
    "# cv2.imshow('image line', imageLine)\n",
    "print(image)"
   ]
  },
  {
   "cell_type": "code",
   "execution_count": null,
   "metadata": {},
   "outputs": [],
   "source": []
  }
 ],
 "metadata": {
  "kernelspec": {
   "display_name": "mm",
   "language": "python",
   "name": "python3"
  },
  "language_info": {
   "codemirror_mode": {
    "name": "ipython",
    "version": 3
   },
   "file_extension": ".py",
   "mimetype": "text/x-python",
   "name": "python",
   "nbconvert_exporter": "python",
   "pygments_lexer": "ipython3",
   "version": "3.8.5"
  },
  "orig_nbformat": 4,
  "vscode": {
   "interpreter": {
    "hash": "3d640da6e093f86e01f9d038e7ac57c8762f8075696c5d4c37e49410c439100c"
   }
  }
 },
 "nbformat": 4,
 "nbformat_minor": 2
}
