{
 "cells": [
  {
   "cell_type": "code",
   "execution_count": 14,
   "metadata": {},
   "outputs": [],
   "source": [
    "import pickle\n",
    "\n",
    "\n",
    "with open('/opt/ml/mm/mmdetection3d/data/kitti_origin/kitti_infos_train.pkl','rb') as f:\n",
    "    kitti  = pickle.load(f)"
   ]
  },
  {
   "cell_type": "code",
   "execution_count": 15,
   "metadata": {},
   "outputs": [],
   "source": [
    "\n",
    "with open('/opt/ml/mm/mmdetection3d/data/kitti/kitti_infos_train.pkl','rb') as f:\n",
    "    aihub = pickle.load(f)"
   ]
  },
  {
   "cell_type": "code",
   "execution_count": 11,
   "metadata": {},
   "outputs": [
    {
     "data": {
      "text/plain": [
       "dict_keys(['metainfo', 'data_list'])"
      ]
     },
     "execution_count": 11,
     "metadata": {},
     "output_type": "execute_result"
    }
   ],
   "source": [
    "kitti.keys()"
   ]
  },
  {
   "cell_type": "code",
   "execution_count": 16,
   "metadata": {},
   "outputs": [
    {
     "data": {
      "text/plain": [
       "{'categories': {'Pedestrian': 0,\n",
       "  'Cyclist': 1,\n",
       "  'Car': 2,\n",
       "  'Van': 3,\n",
       "  'Truck': 4,\n",
       "  'Person_sitting': 5,\n",
       "  'Tram': 6,\n",
       "  'Misc': 7,\n",
       "  'DontCare': -1},\n",
       " 'dataset': 'kitti',\n",
       " 'info_version': '1.1'}"
      ]
     },
     "execution_count": 16,
     "metadata": {},
     "output_type": "execute_result"
    }
   ],
   "source": [
    "kitti['metainfo']"
   ]
  },
  {
   "cell_type": "code",
   "execution_count": 17,
   "metadata": {},
   "outputs": [
    {
     "data": {
      "text/plain": [
       "{'categories': {'Pedestrian': 0,\n",
       "  'Cyclist': 1,\n",
       "  'Car': 2,\n",
       "  'Van': 3,\n",
       "  'Truck': 4,\n",
       "  'Person_sitting': 5,\n",
       "  'Tram': 6,\n",
       "  'Misc': 7},\n",
       " 'dataset': 'kitti',\n",
       " 'info_version': '1.1'}"
      ]
     },
     "execution_count": 17,
     "metadata": {},
     "output_type": "execute_result"
    }
   ],
   "source": [
    "aihub['metainfo']"
   ]
  },
  {
   "cell_type": "code",
   "execution_count": 20,
   "metadata": {},
   "outputs": [
    {
     "data": {
      "text/plain": [
       "3712"
      ]
     },
     "execution_count": 20,
     "metadata": {},
     "output_type": "execute_result"
    }
   ],
   "source": [
    "len(kitti['data_list'])"
   ]
  },
  {
   "cell_type": "code",
   "execution_count": 21,
   "metadata": {},
   "outputs": [
    {
     "data": {
      "text/plain": [
       "30"
      ]
     },
     "execution_count": 21,
     "metadata": {},
     "output_type": "execute_result"
    }
   ],
   "source": [
    "len(aihub['data_list'])"
   ]
  },
  {
   "cell_type": "code",
   "execution_count": 63,
   "metadata": {},
   "outputs": [
    {
     "data": {
      "text/plain": [
       "dict_keys(['sample_idx', 'images', 'lidar_points', 'instances', 'plane', 'cam_instances'])"
      ]
     },
     "execution_count": 63,
     "metadata": {},
     "output_type": "execute_result"
    }
   ],
   "source": [
    "kitti['data_list'][0].keys()"
   ]
  },
  {
   "cell_type": "code",
   "execution_count": 64,
   "metadata": {},
   "outputs": [
    {
     "data": {
      "text/plain": [
       "dict_keys(['sample_idx', 'images', 'lidar_points', 'instances', 'cam_instances'])"
      ]
     },
     "execution_count": 64,
     "metadata": {},
     "output_type": "execute_result"
    }
   ],
   "source": [
    "aihub['data_list'][0].keys()"
   ]
  },
  {
   "cell_type": "code",
   "execution_count": 78,
   "metadata": {},
   "outputs": [
    {
     "data": {
      "text/plain": [
       "{'bbox_label': 2,\n",
       " 'bbox_label_3d': 2,\n",
       " 'bbox': [895.5425188296852,\n",
       "  556.6991009244654,\n",
       "  1017.8302125246878,\n",
       "  695.2519891983277],\n",
       " 'bbox_3d_isvalid': True,\n",
       " 'bbox_3d': [-0.3646886646747589,\n",
       "  2.564375877380371,\n",
       "  27.81475830078125,\n",
       "  8.73175048828125,\n",
       "  3.1702704429626465,\n",
       "  2.714693069458008,\n",
       "  1.5774356126785278],\n",
       " 'velocity': -1,\n",
       " 'center_2d': [960.5475463867188, 619.244384765625],\n",
       " 'depth': 27.81475830078125}"
      ]
     },
     "execution_count": 78,
     "metadata": {},
     "output_type": "execute_result"
    }
   ],
   "source": [
    "aihub['data_list'][0]['cam_instances']['CAM2'][0]"
   ]
  },
  {
   "cell_type": "code",
   "execution_count": 77,
   "metadata": {},
   "outputs": [
    {
     "data": {
      "text/plain": [
       "[{'bbox_label': 0,\n",
       "  'bbox_label_3d': 0,\n",
       "  'bbox': [710.4446301035068,\n",
       "   144.00207112943306,\n",
       "   820.2930685018162,\n",
       "   307.58688675239017],\n",
       "  'bbox_3d_isvalid': True,\n",
       "  'bbox_3d': [1.840000033378601,\n",
       "   1.4700000286102295,\n",
       "   8.40999984741211,\n",
       "   1.2000000476837158,\n",
       "   1.8899999856948853,\n",
       "   0.47999998927116394,\n",
       "   0.009999999776482582],\n",
       "  'velocity': -1,\n",
       "  'center_2d': [763.7633056640625, 224.4706268310547],\n",
       "  'depth': 8.4149808883667}]"
      ]
     },
     "execution_count": 77,
     "metadata": {},
     "output_type": "execute_result"
    }
   ],
   "source": [
    "kitti['data_list'][0]['cam_instances']['CAM2']"
   ]
  },
  {
   "attachments": {},
   "cell_type": "markdown",
   "metadata": {},
   "source": [
    "#### 좌표 출력한 값 가져옴"
   ]
  },
  {
   "cell_type": "code",
   "execution_count": 7,
   "metadata": {},
   "outputs": [],
   "source": [
    "points=[[-15.018971975623971, -15.032428167998903], [54.136823524948824, 58.222970611407256], [3.0296997506023753, 2.8051043840793595], [39.79171568923941, 35.43356024855636], [-15.097828401250919, -15.210248440878702], [49.5590399513742, 53.5324448102532], [-14.620334540394246, -14.520687868246632], [35.86152676286086, 39.88107427687826], [-17.761479272171332, -13.9007396325784], [59.66047918725979, 58.89557376918275], [-6.844764772201192, -7.60699830602365], [20.076706995007815, 20.472285548310516]]"
   ]
  },
  {
   "cell_type": "code",
   "execution_count": 11,
   "metadata": {},
   "outputs": [],
   "source": [
    "import numpy as np\n",
    "import matplotlib as plt\n",
    "import matplotlib.pyplot as plt\n",
    "%matplotlib inline"
   ]
  },
  {
   "cell_type": "code",
   "execution_count": 8,
   "metadata": {},
   "outputs": [
    {
     "data": {
      "text/plain": [
       "12"
      ]
     },
     "execution_count": 8,
     "metadata": {},
     "output_type": "execute_result"
    }
   ],
   "source": [
    "len(points)\n"
   ]
  },
  {
   "cell_type": "code",
   "execution_count": 28,
   "metadata": {},
   "outputs": [],
   "source": [
    "#좌표 분리\n",
    "x=[]\n",
    "y=[]\n",
    "for point in points:\n",
    "    x_p,y_p=point\n",
    "    x.append(x_p)\n",
    "    y.append(y_p)\n",
    "\n"
   ]
  },
  {
   "cell_type": "code",
   "execution_count": 30,
   "metadata": {},
   "outputs": [
    {
     "data": {
      "text/plain": [
       "12"
      ]
     },
     "execution_count": 30,
     "metadata": {},
     "output_type": "execute_result"
    }
   ],
   "source": [
    "len(x)"
   ]
  },
  {
   "cell_type": "code",
   "execution_count": 31,
   "metadata": {},
   "outputs": [
    {
     "data": {
      "image/png": "[encoded data removed]",
      "text/plain": [
       "<Figure size 864x864 with 1 Axes>"
      ]
     },
     "metadata": {
      "needs_background": "light"
     },
     "output_type": "display_data"
    }
   ],
   "source": [
    "fig = plt.figure(figsize=(12,12))\n",
    "ax = fig.add_subplot()\n",
    "ax.scatter(x, y)\n",
    "\n",
    "# plt.xlim(-60,60)\n",
    "# plt.ylim(-60,60)\n",
    "plt.show()"
   ]
  },
  {
   "cell_type": "code",
   "execution_count": null,
   "metadata": {},
   "outputs": [],
   "source": [
    "fig = plt.figure(figsize=(12,12))\n",
    "ax = fig.add_subplot()\n",
    "plt.plot(points[0])\n",
    "plt.plot(points[2])\n",
    "\n",
    "plt.xlim(-50,50)\n",
    "plt.ylim(-50,50)\n",
    "plt.show()"
   ]
  }
 ],
 "metadata": {
  "kernelspec": {
   "display_name": "mm",
   "language": "python",
   "name": "python3"
  },
  "language_info": {
   "codemirror_mode": {
    "name": "ipython",
    "version": 3
   },
   "file_extension": ".py",
   "mimetype": "text/x-python",
   "name": "python",
   "nbconvert_exporter": "python",
   "pygments_lexer": "ipython3",
   "version": "3.8.5 (default, Sep  4 2020, 07:30:14) \n[GCC 7.3.0]"
  },
  "orig_nbformat": 4,
  "vscode": {
   "interpreter": {
    "hash": "3d640da6e093f86e01f9d038e7ac57c8762f8075696c5d4c37e49410c439100c"
   }
  }
 },
 "nbformat": 4,
 "nbformat_minor": 2
}
